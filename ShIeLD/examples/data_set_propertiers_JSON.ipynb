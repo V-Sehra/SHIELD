{
 "cells": [
  {
   "cell_type": "code",
   "execution_count": 2,
   "metadata": {
    "collapsed": true
   },
   "outputs": [],
   "source": [
    "import pickle\n",
    "from pathlib import Path"
   ]
  },
  {
   "cell_type": "code",
   "execution_count": 7,
   "outputs": [
    {
     "data": {
      "text/plain": "PosixPath('/Users/Vivek/Library/CloudStorage/OneDrive-UTCloud/PhD/github_public/ShIeLD/ShIeLD/examples')"
     },
     "execution_count": 7,
     "metadata": {},
     "output_type": "execute_result"
    }
   ],
   "source": [
    "Path.cwd()"
   ],
   "metadata": {
    "collapsed": false
   }
  },
  {
   "cell_type": "markdown",
   "source": [
    "# Diabetis Data set"
   ],
   "metadata": {
    "collapsed": false
   }
  },
  {
   "cell_type": "code",
   "execution_count": 38,
   "outputs": [],
   "source": [
    "requirements = {\n",
    "    \"path_raw_data\": Path.cwd() / 'diabetes' / 'data.csv',\n",
    "    \"path_to_data_set\": Path.cwd() / 'diabetes' / 'data_set',\n",
    "    \"path_training_results\": Path.cwd() / 'diabetes' / 'training_results',\n",
    "    \"path_to_model\": Path.cwd() / 'diabetes' / 'model',\n",
    "    \"path_to_interaction_plots\": Path.cwd() / 'diabetes' / 'cTc_interactions',\n",
    "\n",
    "    'cell_type_names' : ['acinar', 'ductal', 'alpha', 'unknown', 'stromal', 'endothelial',\n",
    "                           'Th', 'delta', 'macrophage', 'neutrophil', 'beta', 'otherimmune',\n",
    "                           'Tc', 'gamma', 'naiveTc', 'B'],\n",
    "\n",
    "\n",
    "    'markers': [ 'H3', 'SLC2A1', 'CD20', 'AMY2A', 'CD3e',\n",
    "       'PPY', 'PIN', 'PD1', 'GCG', 'PDX1', 'SST', 'SMA', 'SYP', 'KRT19',\n",
    "       'CD45', 'FOXP3', 'CD45RA', 'CD8a', 'CA9', 'IAPP', 'KI67', 'NKX61',\n",
    "       'INS', 'pH3', 'CD4', 'CD31', 'CDH', 'PTPRN', 'pRB', 'cPARP1', 'Ir191',\n",
    "       'Ir193', 'CD38', 'CD44', 'PCSK2', 'CD99', 'CD68', 'MPO'],\n",
    "    'label_dict' : {'Onset':0,\n",
    "              'Long-duration':1,\n",
    "              'Non-diabetic':2},\n",
    "    'label_column' : 'stage',\n",
    "\n",
    "    'eval_columns' : ['part', 'stage', 'group' ,'CellCat', 'CellType'],\n",
    "\n",
    "    'col_of_interest' : ['anker_value', 'radius_distance', 'fussy_limit',\n",
    "                        'dp', 'comment', 'comment_norm', 'model_no','split_number'],\n",
    "    'col_of_variables' : ['dp', 'fussy_limit','anker_value','radius_distance'],\n",
    "\n",
    "    'minimum_number_cells': 25,\n",
    "    'radius_distance_all' : [9, 27],\n",
    "    'fussy_limit_all' : [0.4,0.8],\n",
    "    'anker_value_all' : [0.01,0.2],\n",
    "\n",
    "    'filter_column': None,\n",
    "    'filter_value' : None,\n",
    "\n",
    "    'anker_cell_selction_type' : '%',# either % or absolut\n",
    "    'multiple_labels_per_subSample': False,\n",
    "\n",
    "    'droupout_rate' : [0.2],\n",
    "    'input_layer':38,\n",
    "    'batch_size':150,\n",
    "    'learning_rate':1e-2,\n",
    "\n",
    "    'out_put_layer':3,\n",
    "    'layer_1': 38,\n",
    "    'attr_bool': False,\n",
    "\n",
    "    'augmentation_number' : 5,\n",
    "    'X_col_name': 'AreaShape_Center_X',\n",
    "    'Y_col_name': 'AreaShape_Center_Y',\n",
    "    'measument_sample_name': 'image',\n",
    "    'filter_cells':False,\n",
    "    'validation_split_column' : 'group',\n",
    "    'number_validation_splits': [1,2,3],\n",
    "    'test_set_fold_number' : [4],\n",
    "    'voro_neighbours' : 50,\n",
    "}"
   ],
   "metadata": {
    "collapsed": false
   }
  },
  {
   "cell_type": "code",
   "execution_count": 5,
   "outputs": [],
   "source": [
    "with open(Path.cwd() / 'diabetes' /'requirements.pt', 'wb') as f:\n",
    "    pickle.dump(requirements, f)"
   ],
   "metadata": {
    "collapsed": false
   }
  },
  {
   "cell_type": "code",
   "execution_count": null,
   "outputs": [],
   "source": [],
   "metadata": {
    "collapsed": false
   }
  },
  {
   "cell_type": "markdown",
   "source": [
    "# HCC Data set"
   ],
   "metadata": {
    "collapsed": false
   }
  },
  {
   "cell_type": "code",
   "execution_count": 64,
   "outputs": [],
   "source": [
    "requirements = {\n",
    "    \"path_raw_data\": Path.cwd() / 'HCC' / 'data.csv',\n",
    "    \"path_to_data_set\": Path.cwd() / 'HCC' / 'data_set',\n",
    "    \"path_training_results\": Path.cwd() / 'HCC' / 'training_results',\n",
    "    \"path_to_model\": Path.cwd() / 'HCC' / 'model',\n",
    "\n",
    "    'cell_type_names' : ['acinar', 'ductal', 'alpha', 'unknown', 'stromal', 'endothelial',\n",
    "                           'Th', 'delta', 'macrophage', 'neutrophil', 'beta', 'otherimmune',\n",
    "                           'Tc', 'gamma', 'naiveTc', 'B'],\n",
    "\n",
    "\n",
    "    'markers': ['CD45.Positive.Classification', 'CD56.Cytoplasm.Intensity',\n",
    "       'CD161.Cytoplasm.Intensity', 'CD39.Cytoplasm.Intensity',\n",
    "       'CD25.Cytoplasm.Intensity', 'CD57.Cytoplasm.Intensity',\n",
    "       'CD40.Cytoplasm.Intensity', 'ICOS.Cytoplasm.Intensity',\n",
    "       'CD3.Cytoplasm.Intensity', 'CD62L.Cytoplasm.Intensity',\n",
    "       'CD45RO.Cytoplasm.Intensity', 'CD45.Cytoplasm.Intensity',\n",
    "       'CD34.Cytoplasm.Intensity', 'CD163.Cytoplasm.Intensity',\n",
    "       'CD19.Cytoplasm.Intensity', 'CD38.Cytoplasm.Intensity',\n",
    "       'CD11c.Cytoplasm.Intensity', 'CD8.Cytoplasm.Intensity',\n",
    "       'CD11b.Cytoplasm.Intensity', 'CD16.Cytoplasm.Intensity',\n",
    "       'FoxP3.Nucleus.Intensity', 'CD69.Cytoplasm.Intensity',\n",
    "       'CD15.Cytoplasm.Intensity', 'CD45RA.Cytoplasm.Intensity',\n",
    "       'CD4.Cytoplasm.Intensity', 'CD66b.Cytoplasm.Intensity',\n",
    "       'CD68.Cytoplasm.Intensity'],\n",
    "\n",
    "    'label_dict' : {'normalLiver': 0,\n",
    "               'core': 1,\n",
    "               'rim': 2},\n",
    "    'label_column' : 'Tissue',\n",
    "\n",
    "    'eval_columns' : ['Class', 'Class0', 'Celltype'],\n",
    "\n",
    "    'col_of_interest' : ['anker_value', 'radius_distance', 'fussy_limit',\n",
    "                        'dp', 'comment', 'comment_norm', 'model_no','split_number'],\n",
    "    'col_of_variables' : ['dp', 'fussy_limit','anker_value','radius_distance'],\n",
    "\n",
    "    'minimum_number_cells': 25,\n",
    "    'radius_distance_all' : [9, 27],\n",
    "    'fussy_limit_all' : [0.4,0.8],\n",
    "    'anker_value_all' : [500,1000],\n",
    "\n",
    "    'filter_column': ['CD45.Positive.Classification'],\n",
    "    'filter_value' : 1,\n",
    "\n",
    "    'anker_cell_selction_type' : 'absolut',# either % or absolut\n",
    "    'multiple_labels_per_subSample': True,\n",
    "\n",
    "    'batch_size':150,\n",
    "    'learning_rate':1e-2,\n",
    "\n",
    "    'input_layer':27,\n",
    "    'layer_1': 27,\n",
    "    'out_put_layer':3,\n",
    "\n",
    "    'droupout_rate' : [0.2],\n",
    "    'attr_bool': False,\n",
    "\n",
    "    'augmentation_number' : 5,\n",
    "    'X_col_name': 'X_value',\n",
    "    'Y_col_name': 'Y_value',\n",
    "    'measument_sample_name': 'Patient',\n",
    "    'filter_cells':False,\n",
    "    'validation_split_column' : 'fold',\n",
    "    'number_validation_splits': [2,3,4,5],\n",
    "    'test_set_fold_number' : [1],\n",
    "    'voro_neighbours' : 50,\n",
    "}"
   ],
   "metadata": {
    "collapsed": false
   }
  },
  {
   "cell_type": "code",
   "execution_count": 65,
   "outputs": [],
   "source": [
    "with open(Path.cwd() / 'HCC' /'requirements.pt', 'wb') as f:\n",
    "    pickle.dump(requirements, f)"
   ],
   "metadata": {
    "collapsed": false
   }
  }
 ],
 "metadata": {
  "kernelspec": {
   "display_name": "Python 3",
   "language": "python",
   "name": "python3"
  },
  "language_info": {
   "codemirror_mode": {
    "name": "ipython",
    "version": 2
   },
   "file_extension": ".py",
   "mimetype": "text/x-python",
   "name": "python",
   "nbconvert_exporter": "python",
   "pygments_lexer": "ipython2",
   "version": "2.7.6"
  }
 },
 "nbformat": 4,
 "nbformat_minor": 0
}

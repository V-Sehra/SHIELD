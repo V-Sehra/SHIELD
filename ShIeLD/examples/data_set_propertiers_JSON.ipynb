{
 "cells": [
  {
   "cell_type": "code",
   "execution_count": 1,
   "metadata": {
    "collapsed": true
   },
   "outputs": [],
   "source": [
    "import pickle\n",
    "from pathlib import Path"
   ]
  },
  {
   "cell_type": "markdown",
   "source": [
    "# Diabetis Data set"
   ],
   "metadata": {
    "collapsed": false
   }
  },
  {
   "cell_type": "code",
   "execution_count": 38,
   "outputs": [],
   "source": [
    "requirements = {\n",
    "    \"path_raw_data\": Path.cwd() / 'diabetes' / 'data.csv',\n",
    "    \"path_to_data_set\": Path.cwd() / 'diabetes' / 'data_set',\n",
    "    \"path_training_results\": Path.cwd() / 'diabetes' / 'training_results',\n",
    "    \"path_to_model\": Path.cwd() / 'diabetes' / 'model',\n",
    "    \"path_to_interaction_plots\": Path.cwd() / 'diabetes' / 'cTc_interactions',\n",
    "\n",
    "    'cell_type_names': ['acinar', 'ductal', 'alpha', 'unknown', 'stromal', 'endothelial',\n",
    "                        'Th', 'delta', 'macrophage', 'neutrophil', 'beta', 'otherimmune',\n",
    "                        'Tc', 'gamma', 'naiveTc', 'B'],\n",
    "\n",
    "    'markers': ['H3', 'SLC2A1', 'CD20', 'AMY2A', 'CD3e',\n",
    "                'PPY', 'PIN', 'PD1', 'GCG', 'PDX1', 'SST', 'SMA', 'SYP', 'KRT19',\n",
    "                'CD45', 'FOXP3', 'CD45RA', 'CD8a', 'CA9', 'IAPP', 'KI67', 'NKX61',\n",
    "                'INS', 'pH3', 'CD4', 'CD31', 'CDH', 'PTPRN', 'pRB', 'cPARP1', 'Ir191',\n",
    "                'Ir193', 'CD38', 'CD44', 'PCSK2', 'CD99', 'CD68', 'MPO'],\n",
    "    'label_dict': {'Onset': 0,\n",
    "                   'Long-duration': 1,\n",
    "                   'Non-diabetic': 2},\n",
    "    'label_column': 'stage',\n",
    "\n",
    "    'eval_columns': ['part', 'stage', 'group', 'CellCat', 'CellType'],\n",
    "\n",
    "    'col_of_interest': ['anker_value', 'radius_distance', 'fussy_limit',\n",
    "                        'droupout_rate', 'comment', 'comment_norm', 'model_no', 'split_number'],\n",
    "    'col_of_variables': ['droupout_rate', 'fussy_limit', 'anker_value', 'radius_distance'],\n",
    "\n",
    "    'minimum_number_cells': 25,\n",
    "    'radius_distance_all': [9, 27],\n",
    "    'fussy_limit_all': [0.4, 0.8],\n",
    "    'anker_value_all': [0.01, 0.2],\n",
    "\n",
    "    'filter_column': None,\n",
    "    'filter_value': None,\n",
    "    'filter_cells': False,\n",
    "\n",
    "    'anker_cell_selction_type': '%',  # either % or absolut\n",
    "    'multiple_labels_per_subSample': False,\n",
    "\n",
    "    'droupout_rate': [0.2],\n",
    "    'input_layer': 38,\n",
    "    'batch_size': 150,\n",
    "    'learning_rate': 1e-2,\n",
    "\n",
    "    'output_layer': 3,\n",
    "    'layer_1': 38,\n",
    "    'attr_bool': False,\n",
    "    'comment_norm': 'no_norm',\n",
    "    'databased_norm': None,\n",
    "\n",
    "    'augmentation_number': 5,\n",
    "    'X_col_name': 'AreaShape_Center_X',\n",
    "    'Y_col_name': 'AreaShape_Center_Y',\n",
    "    'measument_sample_name': 'image',\n",
    "\n",
    "    'validation_split_column': 'group',\n",
    "    'number_validation_splits': [1, 2, 3],\n",
    "    'test_set_fold_number': [4],\n",
    "    'voro_neighbours': 50,\n",
    "}"
   ],
   "metadata": {
    "collapsed": false
   }
  },
  {
   "cell_type": "code",
   "execution_count": 5,
   "outputs": [],
   "source": [
    "with open(Path.cwd() / 'diabetes' / 'requirements.pt', 'wb') as f:\n",
    "    pickle.dump(requirements, f)"
   ],
   "metadata": {
    "collapsed": false
   }
  },
  {
   "cell_type": "code",
   "execution_count": null,
   "outputs": [],
   "source": [],
   "metadata": {
    "collapsed": false
   }
  },
  {
   "cell_type": "markdown",
   "source": [
    "# HCC Data set"
   ],
   "metadata": {
    "collapsed": false
   }
  },
  {
   "cell_type": "code",
   "execution_count": 4,
   "outputs": [],
   "source": [
    "\n",
    "\n",
    "requirements = {\n",
    "    \"path_raw_data\": Path.cwd().parent / 'examples' / 'HCC' / 'data.csv',\n",
    "    \"path_to_data_set\": Path.cwd() / 'data_sets' / 'HCC',\n",
    "    \"path_training_results\": Path.cwd() / 'HCC' / 'training_results',\n",
    "    \"path_to_model\": Path.cwd() / 'HCC' / 'model',\n",
    "    \"path_to_interaction_plots\": Path.cwd() / 'HCC' / 'cTc_interactions',\n",
    "\n",
    "    'cell_type_names': ['B cells CD38+', 'B cells PD-L1+', 'Granulocytes CD38+',\n",
    "                        'Granulocytes CD38-', 'M2 Macrophages PD-L1+', 'MAITs',\n",
    "                        'MHCII APCs', 'Mixed Immune CD45+', 'NK Cells CD16', 'T cells CD4',\n",
    "                        'T cells CD4 PD-L1+', 'T cells CD4 naïve', 'T cells CD8 PD-1high',\n",
    "                        'T cells CD8 PD-1low', 'Tregs', 'Kupffer cells',\n",
    "                        'M2 Macrophages PD-L1-', 'NK Cells CD56', 'T cells CD57',\n",
    "                        'T cells CD8 PD-L1+', 'B cells CD45RA'],\n",
    "    'combine_cellPhenotypes': ['B cells', 'Granulocytes'],\n",
    "\n",
    "    'sampleing': 'random',\n",
    "\n",
    "    'markers': ['CD56.Cytoplasm.Intensity', 'CD161.Cytoplasm.Intensity',\n",
    "                'CD39.Cytoplasm.Intensity', 'CD25.Cytoplasm.Intensity',\n",
    "                'CD57.Cytoplasm.Intensity', 'CD40.Cytoplasm.Intensity',\n",
    "                'ICOS.Cytoplasm.Intensity', 'CD3.Cytoplasm.Intensity',\n",
    "                'CD62L.Cytoplasm.Intensity', 'CD45RO.Cytoplasm.Intensity',\n",
    "                'CD163.Cytoplasm.Intensity', 'CD19.Cytoplasm.Intensity',\n",
    "                'CD38.Cytoplasm.Intensity', 'CD11c.Cytoplasm.Intensity',\n",
    "                'CD8.Cytoplasm.Intensity', 'CD11b.Cytoplasm.Intensity',\n",
    "                'CD16.Cytoplasm.Intensity', 'CD69.Cytoplasm.Intensity',\n",
    "                'CD15.Cytoplasm.Intensity', 'CD45RA.Cytoplasm.Intensity',\n",
    "                'CD4.Cytoplasm.Intensity', 'CD66b.Cytoplasm.Intensity',\n",
    "                'CD68.Cytoplasm.Intensity'],\n",
    "\n",
    "    'label_dict': {'normalLiver': 0,\n",
    "                   'core': 1,\n",
    "                   'rim': 2},\n",
    "    'label_column': 'Tissue',\n",
    "\n",
    "    'eval_columns': ['Class', 'Class0', 'Celltype'],\n",
    "\n",
    "    'col_of_interest': ['anker_value', 'radius_distance',\n",
    "                        'droupout_rate', 'comment', 'comment_norm', 'model_no', 'split_number'],\n",
    "    'col_of_variables': ['droupout_rate', 'anker_value', 'radius_distance'],\n",
    "\n",
    "    'minimum_number_cells': 25,\n",
    "    'radius_distance_all': [530],\n",
    "    'anker_value_all': [500],\n",
    "\n",
    "    'filter_column': ['CD45.Positive.Classification'],\n",
    "    'filter_value': 1,\n",
    "    'filter_cells': True,\n",
    "\n",
    "    'anker_cell_selction_type': 'absolut',  # either % or absolut\n",
    "    'multiple_labels_per_subSample': True,\n",
    "\n",
    "    'batch_size': 150,\n",
    "    'learning_rate': 1e-2,\n",
    "\n",
    "    'input_layer': 23,\n",
    "    'layer_1': 23,\n",
    "    'output_layer': 3,\n",
    "    'comment_norm': 'no_norm',\n",
    "    'databased_norm': None,\n",
    "\n",
    "    'droupout_rate': [0.8],\n",
    "    'attr_bool': False,\n",
    "\n",
    "    'augmentation_number': 5,\n",
    "    'X_col_name': 'X_value',\n",
    "    'Y_col_name': 'Y_value',\n",
    "    'measument_sample_name': 'Patient',\n",
    "\n",
    "    'validation_split_column': 'fold',\n",
    "    'number_validation_splits': [2, 3, 4, 5],\n",
    "    'test_set_fold_number': [1],\n",
    "    'voro_neighbours': 50,\n",
    "}\n",
    "\n"
   ],
   "metadata": {
    "collapsed": false
   }
  },
  {
   "cell_type": "code",
   "execution_count": 5,
   "outputs": [],
   "source": [
    "pickle.dump(requirements, open(Path.cwd() / f'req_HCC.pt', 'wb'))"
   ],
   "metadata": {
    "collapsed": false
   }
  },
  {
   "cell_type": "markdown",
   "source": [
    "# Colorectal Cancer Data set"
   ],
   "metadata": {
    "collapsed": false
   }
  },
  {
   "cell_type": "code",
   "execution_count": 3,
   "outputs": [],
   "source": [
    "requirements = {\n",
    "    \"path_raw_data\": Path.cwd() / 'CRC' / 'crc_data.csv',\n",
    "    \"path_to_data_set\": Path.cwd() / 'CRC' / 'data_set',\n",
    "    \"path_training_results\": Path.cwd() / 'CRC' / 'training_results',\n",
    "    \"path_to_model\": Path.cwd() / 'CRC' / 'model',\n",
    "    \"path_to_interaction_plots\": Path.cwd() / 'CRC' / 'cTc_interactions',\n",
    "\n",
    "    'cell_type_names': ['CD4+ T cells CD45RO+', 'CD68+ macrophages',\n",
    "                        'CD68+CD163+ macrophages', 'CD8+ T cells', 'Tregs', 'granulocytes',\n",
    "                        'plasma cells', 'smooth muscle', 'stroma', 'tumor cells',\n",
    "                        'vasculature', 'B cells', 'CD4+ T cells',\n",
    "                        'immune cells / vasculature', 'undefined', 'nerves',\n",
    "                        'CD4+ T cells GATA3+', 'immune cells', 'CD11b+CD68+ macrophages',\n",
    "                        'CD3+ T cells', 'adipocytes', 'tumor cells / immune cells',\n",
    "                        'CD11c+ DCs', 'lymphatics', 'CD11b+ monocytes',\n",
    "                        'CD68+ macrophages GzmB+', 'NK cells'],\n",
    "\n",
    "    'markers': ['CD44', 'FOXP3', 'CD8', 'p53', 'GATA3', 'CD45', 'T.bet', 'beta.catenin',\n",
    "                'HLA.DR', 'PD.L1', 'Ki67', 'CD45RA', 'CD4', 'CD21', 'MUC.1', 'CD30',\n",
    "                'CD2', 'Vimentin', 'CD20', 'LAG.3', 'Na.K.ATPase', 'CD5', 'IDO.1',\n",
    "                'Cytokeratin', 'CD11b', 'CD56', 'aSMA', 'BCL.2', 'CD25', 'CD11c',\n",
    "                'PD.1', 'Granzyme.B', 'EGFR', 'VISTA', 'CD15', 'ICOS', 'Synaptophysin',\n",
    "                'GFAP', 'CD7', 'CD3', 'Chromogranin.A', 'CD163', 'CD45RO', 'CD68',\n",
    "                'CD31', 'Podoplanin', 'CD34', 'CD38', 'CD138', 'CDX2', 'Collagen.IV',\n",
    "                'CD194', 'MMP9', 'CD71', 'CD57', 'MMP12'],\n",
    "\n",
    "    'label_dict': {'good_responder': 0,\n",
    "                   'bad_responder': 1},\n",
    "    'label_column': 'groups',\n",
    "\n",
    "    'eval_columns': ['patients', 'spots', 'CellType'],\n",
    "\n",
    "    'col_of_interest': ['anker_value', 'radius_distance', 'fussy_limit',\n",
    "                        'droupout_rate', 'comment', 'comment_norm', 'model_no', 'split_number'],\n",
    "    'col_of_variables': ['droupout_rate', 'fussy_limit', 'anker_value', 'radius_distance', 'comment', 'comment_norm'],\n",
    "\n",
    "    'minimum_number_cells': 50,\n",
    "    'radius_distance_all': [25, 55, 75],\n",
    "    'fussy_limit_all': [0.1, 0.5],\n",
    "    'anker_value_all': [0.03, 0.08],\n",
    "    'comment_norm': 'sample_norm_forceTrain',\n",
    "    'databased_norm': 'global_std',\n",
    "\n",
    "    'filter_column': None,\n",
    "    'filter_value': None,\n",
    "    'filter_cells': False,\n",
    "\n",
    "    'anker_cell_selction_type': '%',  # either % or absolut\n",
    "    'multiple_labels_per_subSample': False,\n",
    "\n",
    "    'droupout_rate': [0.2],\n",
    "    'input_layer': 56,\n",
    "    'batch_size': 150,\n",
    "    'learning_rate': 1e-2,\n",
    "    'patience': 2,\n",
    "\n",
    "    'output_layer': 2,\n",
    "    'layer_1': 56,\n",
    "    'attr_bool': False,\n",
    "\n",
    "    'augmentation_number': 5,\n",
    "    'X_col_name': 'X_withinTile.X_withinTile',\n",
    "    'Y_col_name': 'Y_withinTile.Y_withinTile',\n",
    "    'measument_sample_name': 'spots',\n",
    "\n",
    "    'validation_split_column': 'val_column',\n",
    "    'number_validation_splits': [1, 2, 3],\n",
    "    'test_set_fold_number': [4],\n",
    "    'voro_neighbours': 10,\n",
    "}"
   ],
   "metadata": {
    "collapsed": false
   }
  },
  {
   "cell_type": "code",
   "execution_count": 4,
   "outputs": [],
   "source": [
    "with open(Path.cwd() / 'CRC' / 'requirements.pt', 'wb') as f:\n",
    "    pickle.dump(requirements, f)"
   ],
   "metadata": {
    "collapsed": false
   }
  }
 ],
 "metadata": {
  "kernelspec": {
   "display_name": "Python 3",
   "language": "python",
   "name": "python3"
  },
  "language_info": {
   "codemirror_mode": {
    "name": "ipython",
    "version": 2
   },
   "file_extension": ".py",
   "mimetype": "text/x-python",
   "name": "python",
   "nbconvert_exporter": "python",
   "pygments_lexer": "ipython2",
   "version": "2.7.6"
  }
 },
 "nbformat": 4,
 "nbformat_minor": 0
}

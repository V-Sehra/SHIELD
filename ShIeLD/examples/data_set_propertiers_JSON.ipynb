{
 "cells": [
  {
   "cell_type": "code",
   "execution_count": 8,
   "metadata": {
    "collapsed": true
   },
   "outputs": [],
   "source": [
    "import pickle\n",
    "from pathlib import Path"
   ]
  },
  {
   "cell_type": "code",
   "execution_count": 29,
   "outputs": [
    {
     "data": {
      "text/plain": "PosixPath('/Users/Vivek/Library/CloudStorage/OneDrive-UTCloud/PhD/github_public/ShIeLD/ShIeLD/examples')"
     },
     "execution_count": 29,
     "metadata": {},
     "output_type": "execute_result"
    }
   ],
   "source": [
    "Path.cwd()"
   ],
   "metadata": {
    "collapsed": false
   }
  },
  {
   "cell_type": "markdown",
   "source": [
    "# Diabetis Data set"
   ],
   "metadata": {
    "collapsed": false
   }
  },
  {
   "cell_type": "code",
   "execution_count": 33,
   "outputs": [],
   "source": [
    "requirements = {\n",
    "    \"path_raw_data\": Path.cwd() / 'diabetes' / 'data.csv',\n",
    "    \"path_to_data_set\": Path.cwd() / 'diabetes' / 'data_set',\n",
    "    \"path_training_results\": Path.cwd() / 'diabetes' / 'training_results',\n",
    "    \"path_to_model\": Path.cwd() / 'diabetes' / 'model',\n",
    "\n",
    "    'cell_type_names' : ['acinar', 'ductal', 'alpha', 'unknown', 'stromal', 'endothelial',\n",
    "                           'Th', 'delta', 'macrophage', 'neutrophil', 'beta', 'otherimmune',\n",
    "                           'Tc', 'gamma', 'naiveTc', 'B'],\n",
    "\n",
    "\n",
    "    'markers': [ 'H3', 'SLC2A1', 'CD20', 'AMY2A', 'CD3e',\n",
    "       'PPY', 'PIN', 'PD1', 'GCG', 'PDX1', 'SST', 'SMA', 'SYP', 'KRT19',\n",
    "       'CD45', 'FOXP3', 'CD45RA', 'CD8a', 'CA9', 'IAPP', 'KI67', 'NKX61',\n",
    "       'INS', 'pH3', 'CD4', 'CD31', 'CDH', 'PTPRN', 'pRB', 'cPARP1', 'Ir191',\n",
    "       'Ir193', 'CD38', 'CD44', 'PCSK2', 'CD99', 'CD68', 'MPO'],\n",
    "    'label_dict' : {'Onset':0,\n",
    "              'Long-duration':1,\n",
    "              'Non-diabetic':2},\n",
    "    'label_column' : 'stage',\n",
    "\n",
    "    'eval_columns' : ['part', 'stage', 'group' ,'CellCat', 'CellType'],\n",
    "\n",
    "    'col_of_interest' : ['anker_value', 'radius_neibourhood', 'fussy_limit',\n",
    "                        'dp', 'comment', 'comment_norm', 'model_no','split_number'],\n",
    "    'col_of_variables' : ['dp', 'fussy_limit','anker_value','radius_distance'],\n",
    "\n",
    "    'minimum_number_cells': 25,\n",
    "    'radius_distance_all' : [9, 14, 20, 27],\n",
    "    'fussy_limit_all' : [0.4,0.6,0.8,1],\n",
    "    'anker_value_all' : [0.01,0.03,0.05,0.1,0.2],\n",
    "\n",
    "    'anker_cell_selction_type' : '%',# either % or absolut\n",
    "\n",
    "    'droupout_rate' : [0.2],\n",
    "    'input_layer':[38],\n",
    "    'batch_size':150,\n",
    "    'learning_rate':1e-2,\n",
    "\n",
    "    'out_put_layer':3,\n",
    "    'layer_1': 38,\n",
    "    'attr_bool': False,\n",
    "\n",
    "    'augmentation_number' : 5,\n",
    "    'X_col_name': 'AreaShape_Center_X',\n",
    "    'Y_col_name': 'AreaShape_Center_Y',\n",
    "    'measument_sample_name': 'image',\n",
    "    'filter_cells':False,\n",
    "    'validation_split_column' : 'group',\n",
    "    'number_validation_splits': [1,2,3],\n",
    "    'test_set_fold_number' : [4],\n",
    "    'voro_neighbours' : 50,\n",
    "}"
   ],
   "metadata": {
    "collapsed": false
   }
  },
  {
   "cell_type": "code",
   "execution_count": 34,
   "outputs": [],
   "source": [
    "with open(Path.cwd() / 'diabetes' /'requirements.pt', 'wb') as f:\n",
    "    pickle.dump(requirements, f)"
   ],
   "metadata": {
    "collapsed": false
   }
  },
  {
   "cell_type": "code",
   "execution_count": null,
   "outputs": [],
   "source": [],
   "metadata": {
    "collapsed": false
   }
  },
  {
   "cell_type": "markdown",
   "source": [
    "# HCC Data set"
   ],
   "metadata": {
    "collapsed": false
   }
  },
  {
   "cell_type": "code",
   "execution_count": 11,
   "outputs": [],
   "source": [
    "import pandas as pd"
   ],
   "metadata": {
    "collapsed": false
   }
  },
  {
   "cell_type": "code",
   "execution_count": 13,
   "outputs": [],
   "source": [
    "csv = pd.read_csv('/Users/Vivek/Library/CloudStorage/OneDrive-UTCloud/PhD/GNN/data_sets/diabetes/data.csv')"
   ],
   "metadata": {
    "collapsed": false
   }
  },
  {
   "cell_type": "code",
   "execution_count": 17,
   "outputs": [
    {
     "ename": "ValueError",
     "evalue": "('Lengths must match to compare', (1776974,), (3,))",
     "output_type": "error",
     "traceback": [
      "\u001B[0;31m---------------------------------------------------------------------------\u001B[0m",
      "\u001B[0;31mValueError\u001B[0m                                Traceback (most recent call last)",
      "\u001B[0;32m/var/folders/h1/6rkh7b7j2zd_jds132jtppf40000gn/T/ipykernel_15040/1480783016.py\u001B[0m in \u001B[0;36m<module>\u001B[0;34m\u001B[0m\n\u001B[0;32m----> 1\u001B[0;31m \u001B[0mdata_sample\u001B[0m \u001B[0;34m=\u001B[0m \u001B[0mcsv\u001B[0m\u001B[0;34m.\u001B[0m\u001B[0mloc\u001B[0m\u001B[0;34m[\u001B[0m\u001B[0mcsv\u001B[0m\u001B[0;34m[\u001B[0m\u001B[0mrequirements\u001B[0m\u001B[0;34m[\u001B[0m\u001B[0;34m'validation_split_column'\u001B[0m\u001B[0;34m]\u001B[0m\u001B[0;34m]\u001B[0m \u001B[0;34m==\u001B[0m \u001B[0mrequirements\u001B[0m\u001B[0;34m[\u001B[0m\u001B[0;34m'number_validation_splits'\u001B[0m\u001B[0;34m]\u001B[0m\u001B[0;34m]\u001B[0m\u001B[0;34m\u001B[0m\u001B[0;34m\u001B[0m\u001B[0m\n\u001B[0m",
      "\u001B[0;32m~/anaconda3/envs/twin_gnn/lib/python3.7/site-packages/pandas/core/ops/common.py\u001B[0m in \u001B[0;36mnew_method\u001B[0;34m(self, other)\u001B[0m\n\u001B[1;32m     67\u001B[0m         \u001B[0mother\u001B[0m \u001B[0;34m=\u001B[0m \u001B[0mitem_from_zerodim\u001B[0m\u001B[0;34m(\u001B[0m\u001B[0mother\u001B[0m\u001B[0;34m)\u001B[0m\u001B[0;34m\u001B[0m\u001B[0;34m\u001B[0m\u001B[0m\n\u001B[1;32m     68\u001B[0m \u001B[0;34m\u001B[0m\u001B[0m\n\u001B[0;32m---> 69\u001B[0;31m         \u001B[0;32mreturn\u001B[0m \u001B[0mmethod\u001B[0m\u001B[0;34m(\u001B[0m\u001B[0mself\u001B[0m\u001B[0;34m,\u001B[0m \u001B[0mother\u001B[0m\u001B[0;34m)\u001B[0m\u001B[0;34m\u001B[0m\u001B[0;34m\u001B[0m\u001B[0m\n\u001B[0m\u001B[1;32m     70\u001B[0m \u001B[0;34m\u001B[0m\u001B[0m\n\u001B[1;32m     71\u001B[0m     \u001B[0;32mreturn\u001B[0m \u001B[0mnew_method\u001B[0m\u001B[0;34m\u001B[0m\u001B[0;34m\u001B[0m\u001B[0m\n",
      "\u001B[0;32m~/anaconda3/envs/twin_gnn/lib/python3.7/site-packages/pandas/core/arraylike.py\u001B[0m in \u001B[0;36m__eq__\u001B[0;34m(self, other)\u001B[0m\n\u001B[1;32m     30\u001B[0m     \u001B[0;34m@\u001B[0m\u001B[0munpack_zerodim_and_defer\u001B[0m\u001B[0;34m(\u001B[0m\u001B[0;34m\"__eq__\"\u001B[0m\u001B[0;34m)\u001B[0m\u001B[0;34m\u001B[0m\u001B[0;34m\u001B[0m\u001B[0m\n\u001B[1;32m     31\u001B[0m     \u001B[0;32mdef\u001B[0m \u001B[0m__eq__\u001B[0m\u001B[0;34m(\u001B[0m\u001B[0mself\u001B[0m\u001B[0;34m,\u001B[0m \u001B[0mother\u001B[0m\u001B[0;34m)\u001B[0m\u001B[0;34m:\u001B[0m\u001B[0;34m\u001B[0m\u001B[0;34m\u001B[0m\u001B[0m\n\u001B[0;32m---> 32\u001B[0;31m         \u001B[0;32mreturn\u001B[0m \u001B[0mself\u001B[0m\u001B[0;34m.\u001B[0m\u001B[0m_cmp_method\u001B[0m\u001B[0;34m(\u001B[0m\u001B[0mother\u001B[0m\u001B[0;34m,\u001B[0m \u001B[0moperator\u001B[0m\u001B[0;34m.\u001B[0m\u001B[0meq\u001B[0m\u001B[0;34m)\u001B[0m\u001B[0;34m\u001B[0m\u001B[0;34m\u001B[0m\u001B[0m\n\u001B[0m\u001B[1;32m     33\u001B[0m \u001B[0;34m\u001B[0m\u001B[0m\n\u001B[1;32m     34\u001B[0m     \u001B[0;34m@\u001B[0m\u001B[0munpack_zerodim_and_defer\u001B[0m\u001B[0;34m(\u001B[0m\u001B[0;34m\"__ne__\"\u001B[0m\u001B[0;34m)\u001B[0m\u001B[0;34m\u001B[0m\u001B[0;34m\u001B[0m\u001B[0m\n",
      "\u001B[0;32m~/anaconda3/envs/twin_gnn/lib/python3.7/site-packages/pandas/core/series.py\u001B[0m in \u001B[0;36m_cmp_method\u001B[0;34m(self, other, op)\u001B[0m\n\u001B[1;32m   5500\u001B[0m \u001B[0;34m\u001B[0m\u001B[0m\n\u001B[1;32m   5501\u001B[0m         \u001B[0;32mwith\u001B[0m \u001B[0mnp\u001B[0m\u001B[0;34m.\u001B[0m\u001B[0merrstate\u001B[0m\u001B[0;34m(\u001B[0m\u001B[0mall\u001B[0m\u001B[0;34m=\u001B[0m\u001B[0;34m\"ignore\"\u001B[0m\u001B[0;34m)\u001B[0m\u001B[0;34m:\u001B[0m\u001B[0;34m\u001B[0m\u001B[0;34m\u001B[0m\u001B[0m\n\u001B[0;32m-> 5502\u001B[0;31m             \u001B[0mres_values\u001B[0m \u001B[0;34m=\u001B[0m \u001B[0mops\u001B[0m\u001B[0;34m.\u001B[0m\u001B[0mcomparison_op\u001B[0m\u001B[0;34m(\u001B[0m\u001B[0mlvalues\u001B[0m\u001B[0;34m,\u001B[0m \u001B[0mrvalues\u001B[0m\u001B[0;34m,\u001B[0m \u001B[0mop\u001B[0m\u001B[0;34m)\u001B[0m\u001B[0;34m\u001B[0m\u001B[0;34m\u001B[0m\u001B[0m\n\u001B[0m\u001B[1;32m   5503\u001B[0m \u001B[0;34m\u001B[0m\u001B[0m\n\u001B[1;32m   5504\u001B[0m         \u001B[0;32mreturn\u001B[0m \u001B[0mself\u001B[0m\u001B[0;34m.\u001B[0m\u001B[0m_construct_result\u001B[0m\u001B[0;34m(\u001B[0m\u001B[0mres_values\u001B[0m\u001B[0;34m,\u001B[0m \u001B[0mname\u001B[0m\u001B[0;34m=\u001B[0m\u001B[0mres_name\u001B[0m\u001B[0;34m)\u001B[0m\u001B[0;34m\u001B[0m\u001B[0;34m\u001B[0m\u001B[0m\n",
      "\u001B[0;32m~/anaconda3/envs/twin_gnn/lib/python3.7/site-packages/pandas/core/ops/array_ops.py\u001B[0m in \u001B[0;36mcomparison_op\u001B[0;34m(left, right, op)\u001B[0m\n\u001B[1;32m    260\u001B[0m         \u001B[0;32mif\u001B[0m \u001B[0mlen\u001B[0m\u001B[0;34m(\u001B[0m\u001B[0mlvalues\u001B[0m\u001B[0;34m)\u001B[0m \u001B[0;34m!=\u001B[0m \u001B[0mlen\u001B[0m\u001B[0;34m(\u001B[0m\u001B[0mrvalues\u001B[0m\u001B[0;34m)\u001B[0m\u001B[0;34m:\u001B[0m\u001B[0;34m\u001B[0m\u001B[0;34m\u001B[0m\u001B[0m\n\u001B[1;32m    261\u001B[0m             raise ValueError(\n\u001B[0;32m--> 262\u001B[0;31m                 \u001B[0;34m\"Lengths must match to compare\"\u001B[0m\u001B[0;34m,\u001B[0m \u001B[0mlvalues\u001B[0m\u001B[0;34m.\u001B[0m\u001B[0mshape\u001B[0m\u001B[0;34m,\u001B[0m \u001B[0mrvalues\u001B[0m\u001B[0;34m.\u001B[0m\u001B[0mshape\u001B[0m\u001B[0;34m\u001B[0m\u001B[0;34m\u001B[0m\u001B[0m\n\u001B[0m\u001B[1;32m    263\u001B[0m             )\n\u001B[1;32m    264\u001B[0m \u001B[0;34m\u001B[0m\u001B[0m\n",
      "\u001B[0;31mValueError\u001B[0m: ('Lengths must match to compare', (1776974,), (3,))"
     ]
    }
   ],
   "source": [
    "data_sample = csv.loc[csv[requirements['validation_split_column']] == requirements['number_validation_splits']]"
   ],
   "metadata": {
    "collapsed": false
   }
  },
  {
   "cell_type": "code",
   "execution_count": 19,
   "outputs": [],
   "source": [
    "data_sample = csv.loc[csv[requirements['validation_split_column']].isin(requirements['number_validation_splits'])]"
   ],
   "metadata": {
    "collapsed": false
   }
  },
  {
   "cell_type": "code",
   "execution_count": 45,
   "outputs": [
    {
     "data": {
      "text/plain": "False"
     },
     "execution_count": 45,
     "metadata": {},
     "output_type": "execute_result"
    }
   ],
   "source": [
    "a = pd.DataFrame([[1,2,3,4],[3,4,5,6]], columns=['a','b','c','d'])\n",
    "b = [1,3]\n",
    "a[['a','d']].isin(b).all(axis=1).any()"
   ],
   "metadata": {
    "collapsed": false
   }
  },
  {
   "cell_type": "code",
   "execution_count": 35,
   "outputs": [],
   "source": [
    "a = Path.cwd()/'examples' / 'diabetes' / 'requirements.pt'"
   ],
   "metadata": {
    "collapsed": false
   }
  },
  {
   "cell_type": "code",
   "execution_count": 40,
   "outputs": [
    {
     "data": {
      "text/plain": "PosixPath('/Users/Vivek/Library/CloudStorage/OneDrive-UTCloud/PhD/github_public/ShIeLD/ShIeLD/examples/examples/diabetes')"
     },
     "execution_count": 40,
     "metadata": {},
     "output_type": "execute_result"
    }
   ],
   "source": [
    "a.parents[0]"
   ],
   "metadata": {
    "collapsed": false
   }
  },
  {
   "cell_type": "code",
   "execution_count": null,
   "outputs": [],
   "source": [],
   "metadata": {
    "collapsed": false
   }
  }
 ],
 "metadata": {
  "kernelspec": {
   "display_name": "Python 3",
   "language": "python",
   "name": "python3"
  },
  "language_info": {
   "codemirror_mode": {
    "name": "ipython",
    "version": 2
   },
   "file_extension": ".py",
   "mimetype": "text/x-python",
   "name": "python",
   "nbconvert_exporter": "python",
   "pygments_lexer": "ipython2",
   "version": "2.7.6"
  }
 },
 "nbformat": 4,
 "nbformat_minor": 0
}

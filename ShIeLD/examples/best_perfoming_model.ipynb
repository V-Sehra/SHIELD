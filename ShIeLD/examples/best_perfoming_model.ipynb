{
 "cells": [
  {
   "cell_type": "code",
   "execution_count": 1,
   "metadata": {
    "collapsed": true
   },
   "outputs": [],
   "source": [
    "import pickle\n",
    "from pathlib import Path"
   ]
  },
  {
   "cell_type": "markdown",
   "source": [
    "# Diabetes"
   ],
   "metadata": {
    "collapsed": false
   }
  },
  {
   "cell_type": "code",
   "execution_count": 2,
   "outputs": [],
   "source": [
    "best_model_config = {'layer_one' : 38,\n",
    "                    'input_dim' : 38,\n",
    "                    'droup_out_rate' : 0.2,\n",
    "                    'final_layer' : 3,\n",
    "                    'attr_bool' : False,\n",
    "                    'prozent_anker_cells': 0.2,\n",
    "                    'radius_distance': 27,\n",
    "                    'fussy_limit': 0.8}"
   ],
   "metadata": {
    "collapsed": false
   }
  },
  {
   "cell_type": "code",
   "execution_count": 3,
   "outputs": [],
   "source": [
    "with open(Path.cwd() / 'diabetes' /'best_config.pt', 'wb') as f:\n",
    "    pickle.dump(best_model_config, f)"
   ],
   "metadata": {
    "collapsed": false
   }
  },
  {
   "cell_type": "code",
   "execution_count": 4,
   "outputs": [
    {
     "data": {
      "text/plain": "PosixPath('/Users/Vivek/Library/CloudStorage/OneDrive-UTCloud/PhD/github_public/ShIeLD/ShIeLD/examples/diabetes/best_config.pt')"
     },
     "execution_count": 4,
     "metadata": {},
     "output_type": "execute_result"
    }
   ],
   "source": [
    "Path.cwd() / 'diabetes' /'best_config.pt'"
   ],
   "metadata": {
    "collapsed": false
   }
  },
  {
   "cell_type": "code",
   "execution_count": null,
   "outputs": [],
   "source": [],
   "metadata": {
    "collapsed": false
   }
  }
 ],
 "metadata": {
  "kernelspec": {
   "display_name": "Python 3",
   "language": "python",
   "name": "python3"
  },
  "language_info": {
   "codemirror_mode": {
    "name": "ipython",
    "version": 2
   },
   "file_extension": ".py",
   "mimetype": "text/x-python",
   "name": "python",
   "nbconvert_exporter": "python",
   "pygments_lexer": "ipython2",
   "version": "2.7.6"
  }
 },
 "nbformat": 4,
 "nbformat_minor": 0
}
